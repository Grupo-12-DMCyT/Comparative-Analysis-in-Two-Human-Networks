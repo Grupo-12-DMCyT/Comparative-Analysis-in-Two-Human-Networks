{
 "cells": [
  {
   "cell_type": "code",
   "execution_count": 2,
   "id": "4887bbe7",
   "metadata": {},
   "outputs": [],
   "source": [
    "import matplotlib.pyplot as plt\n",
    "import os\n",
    "\n",
    "# Números y Datos\n",
    "import numpy as np\n",
    "\n",
    "import networkx as nx\n",
    "\n",
    "from networkx.algorithms.approximation import average_clustering\n",
    "\n",
    "import community.community_louvain as cl\n",
    "import pandas as pd\n",
    "\n",
    "import pickle"
   ]
  },
  {
   "cell_type": "code",
   "execution_count": 1,
   "id": "659bddd0",
   "metadata": {},
   "outputs": [
    {
     "name": "stdout",
     "output_type": "stream",
     "text": [
      "Package                 Version\n",
      "----------------------- -----------\n",
      "asttokens               3.0.0\n",
      "blinker                 1.9.0\n",
      "certifi                 2025.4.26\n",
      "charset-normalizer      3.4.1\n",
      "click                   8.1.8\n",
      "colorama                0.4.6\n",
      "comm                    0.2.2\n",
      "community               1.0.0b1\n",
      "contourpy               1.3.2\n",
      "cycler                  0.12.1\n",
      "debugpy                 1.8.14\n",
      "decorator               5.2.1\n",
      "executing               2.2.0\n",
      "Flask                   3.1.0\n",
      "fonttools               4.57.0\n",
      "idna                    3.10\n",
      "ipykernel               6.29.5\n",
      "ipython                 9.2.0\n",
      "ipython_pygments_lexers 1.1.1\n",
      "itsdangerous            2.2.0\n",
      "jedi                    0.19.2\n",
      "Jinja2                  3.1.6\n",
      "jupyter_client          8.6.3\n",
      "jupyter_core            5.7.2\n",
      "kiwisolver              1.4.8\n",
      "MarkupSafe              3.0.2\n",
      "matplotlib              3.10.0\n",
      "matplotlib-inline       0.1.7\n",
      "nest-asyncio            1.6.0\n",
      "networkx                3.4.2\n",
      "numpy                   2.0.2\n",
      "packaging               25.0\n",
      "pandas                  2.2.2\n",
      "parso                   0.8.4\n",
      "pillow                  11.2.1\n",
      "pip                     24.0\n",
      "platformdirs            4.3.7\n",
      "prompt_toolkit          3.0.51\n",
      "psutil                  7.0.0\n",
      "pure_eval               0.2.3\n",
      "Pygments                2.19.1\n",
      "pyparsing               3.2.3\n",
      "python-dateutil         2.9.0.post0\n",
      "python-louvain          0.16\n",
      "pytz                    2025.2\n",
      "pywin32                 310\n",
      "pyzmq                   26.4.0\n",
      "requests                2.32.3\n",
      "setuptools              65.5.0\n",
      "six                     1.17.0\n",
      "stack-data              0.6.3\n",
      "tornado                 6.4.2\n",
      "traitlets               5.14.3\n",
      "typing_extensions       4.13.2\n",
      "tzdata                  2025.2\n",
      "urllib3                 2.4.0\n",
      "wcwidth                 0.2.13\n",
      "Werkzeug                3.1.3\n"
     ]
    },
    {
     "name": "stderr",
     "output_type": "stream",
     "text": [
      "\n",
      "[notice] A new release of pip is available: 24.0 -> 25.1\n",
      "[notice] To update, run: python.exe -m pip install --upgrade pip\n"
     ]
    }
   ],
   "source": [
    "!pip list"
   ]
  },
  {
   "cell_type": "code",
   "execution_count": null,
   "id": "22509a6e",
   "metadata": {},
   "outputs": [],
   "source": []
  }
 ],
 "metadata": {
  "kernelspec": {
   "display_name": ".env_cyttp1",
   "language": "python",
   "name": "python3"
  },
  "language_info": {
   "codemirror_mode": {
    "name": "ipython",
    "version": 3
   },
   "file_extension": ".py",
   "mimetype": "text/x-python",
   "name": "python",
   "nbconvert_exporter": "python",
   "pygments_lexer": "ipython3",
   "version": "3.11.9"
  }
 },
 "nbformat": 4,
 "nbformat_minor": 5
}
