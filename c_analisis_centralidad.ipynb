{
 "cells": [
  {
   "cell_type": "code",
   "execution_count": null,
   "id": "18416ea4",
   "metadata": {},
   "outputs": [],
   "source": [
    "import matplotlib.pyplot as plt\n",
    "import os\n",
    "import numpy as np\n",
    "import pandas as pd\n",
    "import networkx as nx\n",
    "from networkx.algorithms.approximation import average_clustering\n",
    "import community.community_louvain as cl\n",
    "import pickle\n",
    "\n",
    "import matplotlib as mpl\n",
    "mpl.rcParams['figure.figsize'] = (8,6)\n",
    "mpl.rcParams['font.size'] = 22\n",
    "import seaborn as sns\n",
    "\n",
    "from sklearn.metrics import adjusted_rand_score\n",
    "\n",
    "# Funciones de utiles.py\n",
    "from utiles import read_graph , read_graph_weighted,get_graph_pos , drop_weights"
   ]
  },
  {
   "cell_type": "code",
   "execution_count": null,
   "id": "a9f07cec",
   "metadata": {},
   "outputs": [],
   "source": []
  }
 ],
 "metadata": {
  "kernelspec": {
   "display_name": ".env_cyttp1",
   "language": "python",
   "name": "python3"
  },
  "language_info": {
   "codemirror_mode": {
    "name": "ipython",
    "version": 3
   },
   "file_extension": ".py",
   "mimetype": "text/x-python",
   "name": "python",
   "nbconvert_exporter": "python",
   "pygments_lexer": "ipython3",
   "version": "3.11.9"
  }
 },
 "nbformat": 4,
 "nbformat_minor": 5
}
